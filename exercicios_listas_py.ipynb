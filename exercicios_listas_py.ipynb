{
  "cells": [
    {
      "cell_type": "markdown",
      "metadata": {
        "id": "view-in-github",
        "colab_type": "text"
      },
      "source": [
        "<a href=\"https://colab.research.google.com/github/Malu-Freitas/Malu-Freitas/blob/main/exercicios_listas_py.ipynb\" target=\"_parent\"><img src=\"https://colab.research.google.com/assets/colab-badge.svg\" alt=\"Open In Colab\"/></a>"
      ]
    },
    {
      "cell_type": "markdown",
      "source": [
        "Este programa Python permite que o usuário crie uma lista de livros, inserindo informações sobre cada livro. As informações incluem o nome do autor, o título do livro e o ano de lançamento. O programa permite que o usuário insira até 3 livros na lista e, após cada inserção, exibe as informações dos livros presentes na lista. O programa usa um dicionário para armazenar as informações de cada livro e uma lista (listaLiv) para armazenar os dicionários de livros."
      ],
      "metadata": {
        "id": "ExovksQakwBB"
      }
    },
    {
      "cell_type": "code",
      "execution_count": 1,
      "metadata": {
        "id": "PRBGFwRffLx5",
        "colab": {
          "base_uri": "https://localhost:8080/"
        },
        "outputId": "e92aed83-9ab4-4251-ec01-444b5dd8c4cf"
      },
      "outputs": [
        {
          "output_type": "stream",
          "name": "stdout",
          "text": [
            "Informe o nome do Autor:Maria Luiza Freitas\n",
            "Informe o titulo do Livro:Listas em Python\n",
            "Informe o ano em que foi lançado:2023\n",
            "Maria Luiza Freitas Listas em Python 2023\n"
          ]
        }
      ],
      "source": [
        "listaLiv = []\n",
        "\n",
        "for x in range (3):\n",
        "  livro = {}\n",
        "  livro[\"Nome\"] = str(input(\"Informe o nome do Autor:\"))\n",
        "  livro[\"Titulo\"] = str(input(\"Informe o titulo do Livro:\"))\n",
        "  livro[\"Ano\"] = str(input(\"Informe o ano em que foi lançado:\"))\n",
        "\n",
        "  listaLiv.append(livro)\n",
        "\n",
        "  for x in listaLiv:\n",
        "    print(x['Nome'],x['Titulo'],x['Ano'])\n",
        "  break"
      ]
    },
    {
      "cell_type": "markdown",
      "source": [
        "Este programa Python permite que o usuário insira informações sobre alunos, incluindo nome, idade e média final. As informações de cada aluno são armazenadas em um dicionário e adicionadas à lista alunos. Após inserir as informações de todos os alunos, o programa exibe as informações de cada aluno, incluindo nome, idade e média final. Em seguida, calcula a média das médias finais de todos os alunos e a exibe."
      ],
      "metadata": {
        "id": "8XUC1YdXkyT1"
      }
    },
    {
      "cell_type": "code",
      "execution_count": null,
      "metadata": {
        "colab": {
          "base_uri": "https://localhost:8080/"
        },
        "id": "P4MVEbTykAfb",
        "outputId": "92062e11-2297-4239-82a5-54e46b2fc89b"
      },
      "outputs": [
        {
          "name": "stdout",
          "output_type": "stream",
          "text": [
            "Informe seu nome:\n",
            "Maria Luiza Freitas\n",
            "Informe sua idade:\n",
            "19 anos\n",
            "Informe sua média final:\n",
            "10\n",
            "Nome -> Maria Luiza Freitas\n",
            "\n",
            "Idade -> 19 anos\n",
            "\n",
            "MediaF -> 10\n",
            "\n",
            "Informe seu nome:\n",
            "Maria Luiza\n"
          ]
        }
      ],
      "source": [
        "alunos = []\n",
        "soma = 0\n",
        "\n",
        "for x in range (3):\n",
        "  lista = {}\n",
        "  lista[\"Nome\"] = str( input(\"Informe seu nome:\\n\"))\n",
        "  lista[\"Idade\"] = str(input(\"Informe sua idade:\\n\"))\n",
        "  lista[\"MediaF\"] = int(input(\"Informe sua média final:\\n\"))\n",
        "\n",
        "  alunos.append(lista)\n",
        "\n",
        "  for func in alunos:\n",
        "\n",
        "    for chave, valor in func.items():\n",
        "      print(f\"{chave} -> {valor}\\n\")\n",
        "\n",
        "for e in alunos:\n",
        "  soma += e.get(\"MediaF\")\n",
        "print(f'{soma/len(alunos)}')\n",
        "\n"
      ]
    },
    {
      "cell_type": "code",
      "source": [],
      "metadata": {
        "id": "4U4JXvjc5ZQp"
      },
      "execution_count": null,
      "outputs": []
    }
  ],
  "metadata": {
    "colab": {
      "provenance": [],
      "include_colab_link": true
    },
    "kernelspec": {
      "display_name": "Python 3",
      "name": "python3"
    },
    "language_info": {
      "name": "python"
    }
  },
  "nbformat": 4,
  "nbformat_minor": 0
}