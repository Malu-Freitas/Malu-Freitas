{
  "nbformat": 4,
  "nbformat_minor": 0,
  "metadata": {
    "colab": {
      "provenance": [],
      "collapsed_sections": [
        "GE_aQBVp2JGz",
        "PHW5BxYz28Si",
        "p05elMS57UEI",
        "CKEpW69V8VMH",
        "nLf8XgTL826H",
        "g0LQ0E-aaEaQ",
        "OH9cYTFfdtBf",
        "3DaAmL0derQ0"
      ],
      "include_colab_link": true
    },
    "kernelspec": {
      "name": "python3",
      "display_name": "Python 3"
    },
    "language_info": {
      "name": "python"
    }
  },
  "cells": [
    {
      "cell_type": "markdown",
      "metadata": {
        "id": "view-in-github",
        "colab_type": "text"
      },
      "source": [
        "<a href=\"https://colab.research.google.com/github/Malu-Freitas/Malu-Freitas/blob/main/cria%C3%A7ao_de_arrays_py.ipynb\" target=\"_parent\"><img src=\"https://colab.research.google.com/assets/colab-badge.svg\" alt=\"Open In Colab\"/></a>"
      ]
    },
    {
      "cell_type": "markdown",
      "source": [
        "# **CRIANDO ARRAYS UNIDIMENSIONAIS**\n",
        "\n",
        "**sintaxe**: vetor = numpy.array([valor1, valor2, valorn])\n",
        "\n",
        "Um par de colchetes somente representa uma única linha, onde as colunas e seus elementos são separados por vírgulas."
      ],
      "metadata": {
        "id": "GE_aQBVp2JGz"
      }
    },
    {
      "cell_type": "code",
      "execution_count": null,
      "metadata": {
        "colab": {
          "base_uri": "https://localhost:8080/"
        },
        "id": "l0RiTqnC179v",
        "outputId": "db332897-213c-4d20-8412-4e1d7a4e6b50"
      },
      "outputs": [
        {
          "output_type": "stream",
          "name": "stdout",
          "text": [
            "Vetor criado: [1 1 1]\n"
          ]
        }
      ],
      "source": [
        "import numpy as np # importação do numpy com alias\n",
        "\n",
        "vetor = np.array([1, 1, 1])\n",
        "print(f'Vetor criado: {vetor}')"
      ]
    },
    {
      "cell_type": "markdown",
      "source": [
        "# **CRIANDO ARRAYS BIDIMENSIONAIS (LINHA E COLUNA)**\n",
        "\n",
        "**sintaxe**: vetor = numpy.array([  ],[  ])\n",
        "\n",
        "Cada par de colchetes                              internos representa uma linha, onde seus elementos de coluna são separados por vírgula\n"
      ],
      "metadata": {
        "id": "PHW5BxYz28Si"
      }
    },
    {
      "cell_type": "code",
      "source": [
        "import numpy as np\n",
        "\n",
        "matriz = np.array([[1, 2, 3], [4, 5, 6], [7, 8, 9]])\n",
        "print(f'Matriz 3 X 3:\\n {matriz}')\n",
        "\n",
        "\n"
      ],
      "metadata": {
        "colab": {
          "base_uri": "https://localhost:8080/"
        },
        "id": "CjH56iUi3BWf",
        "outputId": "102a46b5-d084-4dd8-b06e-984366f3e913"
      },
      "execution_count": 1,
      "outputs": [
        {
          "output_type": "stream",
          "name": "stdout",
          "text": [
            "Matriz 3 X 3:\n",
            " [[1 2 3]\n",
            " [4 5 6]\n",
            " [7 8 9]]\n"
          ]
        }
      ]
    },
    {
      "cell_type": "markdown",
      "source": [
        "# **CRIANDO ARRAYS COM TODOS OS ELEMENTOS 0**\n",
        "\n",
        "Sintaxe: array = numpy.zeros([linhas, colunas])\n",
        "\n",
        "Deve-se passar a dimensão do array.\n",
        "Uma dimensão será um vetor.\n",
        "Duas dimensões será uma matriz."
      ],
      "metadata": {
        "id": "p05elMS57UEI"
      }
    },
    {
      "cell_type": "code",
      "source": [
        "import numpy as np\n",
        "\n",
        "vetor = np.zeros(5) # uma dimensão não precisa de colchetes\n",
        "print(f'Vetor de 5 elementos zero: {vetor}')\n",
        "\n",
        "matriz = np.zeros([2, 2])\n",
        "print(f'Matriz 2 X 2 de elementos zero: \\n {matriz}')"
      ],
      "metadata": {
        "colab": {
          "base_uri": "https://localhost:8080/"
        },
        "id": "B6050Ah_72eS",
        "outputId": "159b5a9c-9c2d-48c9-bacf-eb5c61d3e00f"
      },
      "execution_count": null,
      "outputs": [
        {
          "output_type": "stream",
          "name": "stdout",
          "text": [
            "Vetor de 5 elementos zero: [0. 0. 0. 0. 0.]\n",
            "Matriz 2 X 2 de elementos zero: \n",
            " [[0. 0.]\n",
            " [0. 0.]]\n"
          ]
        }
      ]
    },
    {
      "cell_type": "markdown",
      "source": [
        "# **CRIANDO ARRAYS COM TODOS OS ELEMENTOS 1**\n",
        "\n",
        "Sintaxe: array = numpy.ones([linhas, colunas])\n",
        "\n",
        "Deve-se passar a dimensão do array.\n",
        "Uma dimensão será um vetor.\n",
        "Duas dimensões será uma matriz."
      ],
      "metadata": {
        "id": "CKEpW69V8VMH"
      }
    },
    {
      "cell_type": "code",
      "source": [
        "import numpy as np\n",
        "\n",
        "vetor = np.ones(3) # uma dimensão não precisa de colchetes\n",
        "print(f'Vetor de 3 elementos um: {vetor}')\n",
        "\n",
        "matriz = np.ones([3, 3])\n",
        "print(f'Matriz 3 X 3 de elementos um: \\n {matriz}')"
      ],
      "metadata": {
        "colab": {
          "base_uri": "https://localhost:8080/"
        },
        "id": "4wRWlyXR8a3p",
        "outputId": "7e3ab339-2603-4b3b-cf38-38a4fc1557e5"
      },
      "execution_count": null,
      "outputs": [
        {
          "output_type": "stream",
          "name": "stdout",
          "text": [
            "Vetor de 3 elementos um: [1. 1. 1.]\n",
            "Matriz 3 X 3 de elementos um: \n",
            " [[1. 1. 1.]\n",
            " [1. 1. 1.]\n",
            " [1. 1. 1.]]\n"
          ]
        }
      ]
    },
    {
      "cell_type": "markdown",
      "source": [
        "# **CRIANDO MATRIZ IDENTIDADE**\n",
        "\n",
        "Sintaxe: array = numpy.eyes(dimensão)\n",
        "\n",
        "Deve-se passar a dimensão da matriz, que por ser identidade é sempre uma matriz quadrada."
      ],
      "metadata": {
        "id": "nLf8XgTL826H"
      }
    },
    {
      "cell_type": "code",
      "source": [
        "import numpy as np\n",
        "\n",
        "matrizI = np.eye(3)\n",
        "print(f'Matriz Identidade 3 X 3:\\n {matrizI}')\n"
      ],
      "metadata": {
        "colab": {
          "base_uri": "https://localhost:8080/"
        },
        "id": "w8aJXF1S9S66",
        "outputId": "4fbf433b-e478-4aaf-ccaf-82722843f14a"
      },
      "execution_count": null,
      "outputs": [
        {
          "output_type": "stream",
          "name": "stdout",
          "text": [
            "Matriz Identidade 3 X 3:\n",
            " [[1. 0. 0.]\n",
            " [0. 1. 0.]\n",
            " [0. 0. 1.]]\n"
          ]
        }
      ]
    },
    {
      "cell_type": "markdown",
      "source": [
        "# **CRIANDO MATRIZ COM DIAGONAL PRINCIPAL FORMADA POR UM ÚNICO VALOR E OS OUTROS ELEMENTOS IGUAL A ZERO**\n",
        "\n",
        "**Sintaxe**: matriz = numpy.diag([valor])\n",
        "\n",
        "**Nota**: a quantidade de valores da diagonal principal dará a dimensão da matriz (sempre quadrada)\n",
        "\n"
      ],
      "metadata": {
        "id": "g0LQ0E-aaEaQ"
      }
    },
    {
      "cell_type": "code",
      "source": [
        "import numpy as np\n",
        "\n",
        "D = np.diag([10, 10, 10]) # três valores, a matriz será 3 X 3\n",
        "print('D = \\n', D)\n"
      ],
      "metadata": {
        "colab": {
          "base_uri": "https://localhost:8080/"
        },
        "id": "68hk11DibCoL",
        "outputId": "89fa8ed3-dc72-4422-fa3b-3c69cad68064"
      },
      "execution_count": null,
      "outputs": [
        {
          "output_type": "stream",
          "name": "stdout",
          "text": [
            "D = \n",
            " [[10  0  0]\n",
            " [ 0 10  0]\n",
            " [ 0  0 10]]\n"
          ]
        }
      ]
    },
    {
      "cell_type": "markdown",
      "source": [
        "# **USANDO ARANGE PARA CRIAR VETORES**\n",
        "\n",
        "**Sintaxe**: array = numpy.arange(inicio, fim, passo)\n",
        "\n",
        "**Nota**: o valor indicado no fim nunca entra no arranjo."
      ],
      "metadata": {
        "id": "OH9cYTFfdtBf"
      }
    },
    {
      "cell_type": "code",
      "source": [
        "import numpy as np\n",
        "\n",
        "vetor0 = np.arange(20)\n",
        "print(f'Vetor com passo 1: {vetor0}')\n",
        "\n",
        "vetor1 = np.arange(1, 10)\n",
        "print(f'Vetor com passo 1: {vetor1}')\n",
        "\n",
        "vetor2 = np.arange(1, 20, 2)\n",
        "print(f'Vetor com passo 2: {vetor2}')"
      ],
      "metadata": {
        "colab": {
          "base_uri": "https://localhost:8080/"
        },
        "id": "KR_k3K6XeFSB",
        "outputId": "4ffe2ce0-dc07-45ed-9999-485a225e7bc4"
      },
      "execution_count": null,
      "outputs": [
        {
          "output_type": "stream",
          "name": "stdout",
          "text": [
            "Vetor com passo 1: [ 0  1  2  3  4  5  6  7  8  9 10 11 12 13 14 15 16 17 18 19]\n",
            "Vetor com passo 1: [1 2 3 4 5 6 7 8 9]\n",
            "Vetor com passo 2: [ 1  3  5  7  9 11 13 15 17 19]\n"
          ]
        }
      ]
    },
    {
      "cell_type": "markdown",
      "source": [
        "# **CRIANDO ARRAYS UNIDIMENSIONAIS COM LINSPACE**\n",
        "\n",
        "**Sintaxe**: array = numpy.linspace(inicio, fim, quantidade de elementos)\n",
        "\n",
        "**Nota**: o passO é criado automaticamente para gerar a quantidade necessária."
      ],
      "metadata": {
        "id": "3DaAmL0derQ0"
      }
    },
    {
      "cell_type": "code",
      "source": [
        "import numpy as np\n",
        "\n",
        "vetor3 = np.linspace(1, 10, 10)\n",
        "print(f'Vetor com passo e qtde indicada: {vetor3}')"
      ],
      "metadata": {
        "colab": {
          "base_uri": "https://localhost:8080/"
        },
        "id": "3BMmgp5Fe4P8",
        "outputId": "e489b824-9b69-4623-ff99-49885714aa0b"
      },
      "execution_count": null,
      "outputs": [
        {
          "output_type": "stream",
          "name": "stdout",
          "text": [
            "Vetor com passo e qtde indicada: [ 1.  2.  3.  4.  5.  6.  7.  8.  9. 10.]\n"
          ]
        }
      ]
    },
    {
      "cell_type": "markdown",
      "source": [
        "# **USANDO VSTACK E HSTACK PARA CRIAR ARRAYS**\n",
        "\n",
        "**VSTACK**\n",
        "\n",
        "\n",
        "**Sintaxe**: array = numpy.vstack((array1, array2))\n",
        "\n",
        "Adiciona elementos de um ou mais array na vertical. Os arrays tem q ter o mesmo número de colunas.\n",
        "\n",
        "**HSTACK**\n",
        "\n",
        "**Sintaxe**: array = numpy.hstack((array1, array2))\n",
        "\n",
        "Adiciona elementos de um ou mais array na horizontal. Os arrays tem q ter o mesmo número de linhas."
      ],
      "metadata": {
        "id": "CIbr6Sk2gv-E"
      }
    },
    {
      "cell_type": "code",
      "source": [
        "import numpy as np\n",
        "\n",
        "# usando vstack\n",
        "A = np.array([[1, 2],[3, 4],[5, 6]])\n",
        "B = np.array([[7, 8],[9, 10]])\n",
        "\n",
        "V = np.vstack((A, B))\n",
        "print(f'Matrizes A e B unidas na vertical:\\n{V}\\n')\n",
        "\n",
        "# usando hstack\n",
        "C = np.zeros(3)\n",
        "D = np.ones(3)\n",
        "\n",
        "H = np.hstack((C, D))\n",
        "print(f'Matrizes C e D unidas na horizontal:\\n{H}\\n')"
      ],
      "metadata": {
        "colab": {
          "base_uri": "https://localhost:8080/"
        },
        "id": "Jhlixl9uhjSH",
        "outputId": "abee0ff5-9aa8-45cb-f9b0-d43bf799bcb7"
      },
      "execution_count": null,
      "outputs": [
        {
          "output_type": "stream",
          "name": "stdout",
          "text": [
            "Matrizes A e B unidas na vertical:\n",
            "[[ 1  2]\n",
            " [ 3  4]\n",
            " [ 5  6]\n",
            " [ 7  8]\n",
            " [ 9 10]]\n",
            "\n",
            "Matrizes C e D unidas na horizontal:\n",
            "[0. 0. 0. 1. 1. 1.]\n",
            "\n"
          ]
        }
      ]
    },
    {
      "cell_type": "markdown",
      "source": [
        "# **LENDO DADOS PELO TECLADO PARA UM VETOR**"
      ],
      "metadata": {
        "id": "RdOv3drqsozC"
      }
    },
    {
      "cell_type": "code",
      "source": [
        "import numpy as np\n",
        "vetor = np.array(range(5)) * 0\n",
        "\n",
        "for i in range(0, len(vetor)):\n",
        "  vetor[i] = int(input(f'Digite o elemento {i} do vetor: '))\n",
        "\n",
        "print(f'Vetor lido: {vetor}')"
      ],
      "metadata": {
        "id": "MtgGhSz4stPd",
        "colab": {
          "base_uri": "https://localhost:8080/"
        },
        "outputId": "3ce9a198-6070-435a-e1da-02feef23c8bc"
      },
      "execution_count": null,
      "outputs": [
        {
          "output_type": "stream",
          "name": "stdout",
          "text": [
            "Digite o elemento 0 do vetor: 1\n",
            "Digite o elemento 1 do vetor: 2\n",
            "Digite o elemento 2 do vetor: 3\n",
            "Digite o elemento 3 do vetor: 4\n",
            "Digite o elemento 4 do vetor: 5\n",
            "Vetor lido: [1 2 3 4 5]\n"
          ]
        }
      ]
    },
    {
      "cell_type": "markdown",
      "source": [
        "# **LENDO DADOS PELO TECLADO PARA UMA MATRIZ**"
      ],
      "metadata": {
        "id": "8KLXQRnPsyUY"
      }
    },
    {
      "cell_type": "code",
      "source": [
        "import numpy as np\n",
        "\n",
        "#matriz = np.array(range(9)).reshape(3,3) * 0\n",
        "matriz = np.zeros([3, 3])\n",
        "\n",
        "for i in range(0, 3): # caminhando por linhas\n",
        "  for j in range (0, 3): # caminhando por colunas\n",
        "    matriz[i][j] = int(input(f'Digite o elemento {i}{j} da matriz: '))\n",
        "\n",
        "print(matriz)"
      ],
      "metadata": {
        "id": "5e5XGPKws14x",
        "colab": {
          "base_uri": "https://localhost:8080/"
        },
        "outputId": "d18c23ba-d263-4b9c-d830-101cc1057f5c"
      },
      "execution_count": null,
      "outputs": [
        {
          "output_type": "stream",
          "name": "stdout",
          "text": [
            "Digite o elemento 00 da matriz: 1\n",
            "Digite o elemento 01 da matriz: 2\n",
            "Digite o elemento 02 da matriz: 3\n",
            "Digite o elemento 10 da matriz: 4\n",
            "Digite o elemento 11 da matriz: 5\n",
            "Digite o elemento 12 da matriz: 6\n",
            "Digite o elemento 20 da matriz: 7\n",
            "Digite o elemento 21 da matriz: 8\n",
            "Digite o elemento 22 da matriz: 9\n",
            "[[1. 2. 3.]\n",
            " [4. 5. 6.]\n",
            " [7. 8. 9.]]\n"
          ]
        }
      ]
    }
  ]
}