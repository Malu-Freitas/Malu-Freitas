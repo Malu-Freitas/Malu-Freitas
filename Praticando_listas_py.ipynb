{
  "cells": [
    {
      "cell_type": "markdown",
      "metadata": {
        "id": "view-in-github",
        "colab_type": "text"
      },
      "source": [
        "<a href=\"https://colab.research.google.com/github/Malu-Freitas/Malu-Freitas/blob/main/Praticando_listas_py.ipynb\" target=\"_parent\"><img src=\"https://colab.research.google.com/assets/colab-badge.svg\" alt=\"Open In Colab\"/></a>"
      ]
    },
    {
      "cell_type": "code",
      "execution_count": 2,
      "metadata": {
        "colab": {
          "base_uri": "https://localhost:8080/"
        },
        "id": "sWxK83yqXswZ",
        "outputId": "25c40f86-3f54-4e34-bc7f-500dddd1f79b"
      },
      "outputs": [
        {
          "output_type": "stream",
          "name": "stdout",
          "text": [
            "0 Ana\n",
            "1 Julia\n",
            "2 Rafaela\n",
            "3 Daiane\n",
            "4 Vitoria\n",
            "5 Gabriela\n"
          ]
        }
      ],
      "source": [
        "\n",
        "nomes = [\"Ana\", \"Julia\", \"Rafaela\", \"Daiane\", \"Vitoria\", \"Gabriela\"]\n",
        "\n",
        "for i, nome in enumerate(nomes):\n",
        "    print(i, nome)\n"
      ]
    },
    {
      "cell_type": "code",
      "source": [
        "#exercicio 2\n",
        "\n",
        "# crie uma lista vazia para armazenar os itens da compra\n",
        "itens_compra = []\n",
        "\n",
        "# perguntar qual item a pessoa quer comprar e adicionar na sua lista\n",
        "for i in range(5):\n",
        "    item = input(\"Digite o item que deseja comprar: \")\n",
        "    itens_compra.append(item)\n",
        "\n",
        "# exibir todos os itens comprados\n",
        "print(\"Itens comprados:\")\n",
        "for item in itens_compra:\n",
        "    print(\"-\", item)\n",
        "\n",
        "# perguntar qual item a pessoa quer remover da lista e remover, se existir\n",
        "item_remover = input(\"Qual item deseja remover da lista de compras? \")\n",
        "if item_remover in itens_compra:\n",
        "    itens_compra.remove(item_remover)\n",
        "    print(\"O item\", item_remover, \"foi removido da lista de compras.\")\n",
        "else:\n",
        "    print(\"O item\", item_remover, \"não foi encontrado na lista de compras.\")"
      ],
      "metadata": {
        "id": "G0sZW-V6HrLE"
      },
      "execution_count": null,
      "outputs": []
    },
    {
      "cell_type": "code",
      "execution_count": null,
      "metadata": {
        "id": "g1ULbZ0ObTbZ"
      },
      "outputs": [],
      "source": [
        "#exercicio 3\n",
        "\n",
        "# criar lista com 10 números\n",
        "numeros = [1, 2, 3, 4, 5, 6, 7, 8, 9, 10]\n",
        "\n",
        "# exibir todos os elementos da lista\n",
        "print(\"Lista de números:\")\n",
        "for numero in numeros:\n",
        "    print(numero)\n",
        "\n",
        "# exibir todos os elementos da lista multiplicados por 3\n",
        "print(\"Lista de números multiplicados por 3:\")\n",
        "for numero in numeros:\n",
        "    print(numero * 3)\n",
        "\n",
        "# exibir todos os elementos da lista somados com 5\n",
        "print(\"Lista de números somados com 5:\")\n",
        "for numero in numeros:\n",
        "    print(numero + 5)"
      ]
    },
    {
      "cell_type": "code",
      "execution_count": null,
      "metadata": {
        "id": "Ie6hh_YObTr3"
      },
      "outputs": [],
      "source": []
    }
  ],
  "metadata": {
    "colab": {
      "provenance": [],
      "authorship_tag": "ABX9TyM6Kov/4f4KqYDJQYoDFIxR",
      "include_colab_link": true
    },
    "kernelspec": {
      "display_name": "Python 3",
      "name": "python3"
    },
    "language_info": {
      "name": "python"
    }
  },
  "nbformat": 4,
  "nbformat_minor": 0
}