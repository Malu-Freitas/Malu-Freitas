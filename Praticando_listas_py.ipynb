{
  "cells": [
    {
      "cell_type": "markdown",
      "metadata": {
        "id": "view-in-github",
        "colab_type": "text"
      },
      "source": [
        "<a href=\"https://colab.research.google.com/github/Malu-Freitas/Malu-Freitas/blob/main/Praticando_listas_py.ipynb\" target=\"_parent\"><img src=\"https://colab.research.google.com/assets/colab-badge.svg\" alt=\"Open In Colab\"/></a>"
      ]
    },
    {
      "cell_type": "markdown",
      "source": [
        "Este código Python demonstra o uso da função enumerate para percorrer uma lista de nomes. A função enumerate atribui automaticamente um índice a cada elemento da lista, permitindo que você itere pelos elementos e seus índices correspondentes. O código exibe os nomes da lista junto com seus índices, tornando-o útil para rastrear a posição de cada nome na lista."
      ],
      "metadata": {
        "id": "Ra2vs0QjeInq"
      }
    },
    {
      "cell_type": "code",
      "execution_count": 2,
      "metadata": {
        "colab": {
          "base_uri": "https://localhost:8080/"
        },
        "id": "sWxK83yqXswZ",
        "outputId": "25c40f86-3f54-4e34-bc7f-500dddd1f79b"
      },
      "outputs": [
        {
          "output_type": "stream",
          "name": "stdout",
          "text": [
            "0 Ana\n",
            "1 Julia\n",
            "2 Rafaela\n",
            "3 Daiane\n",
            "4 Vitoria\n",
            "5 Gabriela\n"
          ]
        }
      ],
      "source": [
        "nomes = [\"Ana\", \"Julia\", \"Rafaela\", \"Daiane\", \"Vitoria\", \"Gabriela\"]\n",
        "\n",
        "for i, nome in enumerate(nomes):\n",
        "    print(i, nome)\n"
      ]
    },
    {
      "cell_type": "markdown",
      "source": [
        "Este programa Python permite que o usuário crie e gerencie uma lista de compras. O usuário pode adicionar até 5 itens à lista, exibir todos os itens presentes na lista e remover itens específicos, caso necessário. O programa solicita ao usuário que digite o nome dos itens que deseja comprar, armazena-os em uma lista chamada itens_compra e, em seguida, permite que o usuário remova itens digitando o nome do item que deseja remover. Se o item estiver na lista, ele será removido; caso contrário, será exibida uma mensagem informando que o item não foi encontrado."
      ],
      "metadata": {
        "id": "kpN--0Gph7yp"
      }
    },
    {
      "cell_type": "code",
      "source": [
        "itens_compra = []\n",
        "\n",
        "for i in range(5):\n",
        "    item = input(\"Digite o item que deseja comprar: \")\n",
        "    itens_compra.append(item)\n",
        "\n",
        "print(\"Itens comprados:\")\n",
        "for item in itens_compra:\n",
        "    print(\"-\", item)\n",
        "\n",
        "item_remover = input(\"Qual item deseja remover da lista de compras? \")\n",
        "if item_remover in itens_compra:\n",
        "    itens_compra.remove(item_remover)\n",
        "    print(\"O item\", item_remover, \"foi removido da lista de compras.\")\n",
        "else:\n",
        "    print(\"O item\", item_remover, \"não foi encontrado na lista de compras.\")"
      ],
      "metadata": {
        "id": "G0sZW-V6HrLE"
      },
      "execution_count": null,
      "outputs": []
    },
    {
      "cell_type": "markdown",
      "source": [
        "Este programa Python cria uma lista chamada numeros que contém os números de 1 a 10. Em seguida, ele exibe a lista original. Em seguida, cria duas novas listas: uma com os números multiplicados por 3 e outra com os números somados com 5. O programa itera pela lista numeros, realiza as operações matemáticas necessárias e imprime as listas resultantes."
      ],
      "metadata": {
        "id": "oUTKlvqmiSNb"
      }
    },
    {
      "cell_type": "code",
      "execution_count": null,
      "metadata": {
        "id": "g1ULbZ0ObTbZ"
      },
      "outputs": [],
      "source": [
        "\n",
        "numeros = [1, 2, 3, 4, 5, 6, 7, 8, 9, 10]\n",
        "\n",
        "print(\"Lista de números:\")\n",
        "for numero in numeros:\n",
        "    print(numero)\n",
        "\n",
        "print(\"Lista de números multiplicados por 3:\")\n",
        "for numero in numeros:\n",
        "    print(numero * 3)\n",
        "\n",
        "print(\"Lista de números somados com 5:\")\n",
        "for numero in numeros:\n",
        "    print(numero + 5)"
      ]
    }
  ],
  "metadata": {
    "colab": {
      "provenance": [],
      "authorship_tag": "ABX9TyOlJjxWExtVJTQkWJxQbkbP",
      "include_colab_link": true
    },
    "kernelspec": {
      "display_name": "Python 3",
      "name": "python3"
    },
    "language_info": {
      "name": "python"
    }
  },
  "nbformat": 4,
  "nbformat_minor": 0
}